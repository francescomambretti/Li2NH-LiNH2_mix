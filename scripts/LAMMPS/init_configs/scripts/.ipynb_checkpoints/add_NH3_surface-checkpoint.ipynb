{
 "cells": [
  {
   "cell_type": "code",
   "execution_count": 1,
   "id": "e2fea054-f464-404c-aab1-3f60f9b47cbb",
   "metadata": {},
   "outputs": [],
   "source": [
    "from ase.build import molecule\n",
    "from ase import Atoms\n",
    "from ase.io import read,write\n",
    "from ase.visualize import view\n",
    "import numpy as np\n",
    "import os"
   ]
  },
  {
   "cell_type": "code",
   "execution_count": 11,
   "id": "7c69a8de-83a3-4d39-9229-f18b801dff62",
   "metadata": {},
   "outputs": [
    {
     "name": "stdout",
     "output_type": "stream",
     "text": [
      "Cell([[14.320800000000002, 0.0, 0.0], [-7.1604, 12.402177, 0.0], [0.0, 0.0, 30.0]])\n",
      "[0.2580966405498266, 3.0362204220080136, 22.025848542271063]\n",
      "[[ 0.25809664  3.03622042 22.14233754]\n",
      " [ 0.25809664  3.97595142 21.75404054]\n",
      " [ 1.07192764  2.56635542 21.75404054]\n",
      " [-0.55573436  2.56635542 21.75404054]]\n",
      "[7.562291301625782, 0.6217140029678205, 22.45955913169086]\n",
      "[[ 7.5622913   0.621714   22.57604813]\n",
      " [ 7.5622913   1.561445   22.18775113]\n",
      " [ 8.3761223   0.151849   22.18775113]\n",
      " [ 6.7484603   0.151849   22.18775113]]\n"
     ]
    }
   ],
   "source": [
    "for j in [3,]:\n",
    "    config_file=\"../surface/Li2NH_384_20NH2.{}.lmp\".format(j)\n",
    "    config_orig=read(config_file,format='lammps-dump-text')\n",
    "    cell_arrays=config_orig.get_cell()\n",
    "    print(cell_arrays)\n",
    "    \n",
    "    n_to_add=2\n",
    "    config=config_orig\n",
    "\n",
    "    bx_min= 0#cell_arrays[0,0]/8\n",
    "    bx_max= 8#cell_arrays[0,0]-bx_min\n",
    "    by_min= 0 #cell_arrays[1,1]/8\n",
    "    by_max= 8# cell_arrays[1,1]-by_min\n",
    "\n",
    "    for i in range (0,n_to_add):\n",
    "        r_x=np.random.uniform(bx_min,bx_max)\n",
    "        r_y=np.random.uniform(by_min,by_max)\n",
    "        r_z=np.random.uniform(cell_arrays[2,2]-8.0,cell_arrays[2,2]-7.5)\n",
    "        print([r_x,r_y,r_z])\n",
    "        new_mol=molecule('NH3')\n",
    "        pos=new_mol.get_positions() #4x3 matrix\n",
    "        for a in range (0,4):\n",
    "            pos[a]+=[r_x,r_y,r_z]\n",
    "        print(pos)\n",
    "        new_mol.set_positions(pos)\n",
    "        new_system=config+new_mol\n",
    "        config=new_system\n",
    "    \n",
    "    config.set_cell(cell_arrays)\n",
    "    fileout=\"Li2NH_392_20NH2_2NH3.{}.lmp\".format(j)\n",
    "    write(fileout,config,format='lammps-data')\n",
    "    os.system(\"awk <\"+fileout+\" '{if($2==4) print $1,2,$3,$4,$5; else print}' > tmp && mv tmp \"+fileout)"
   ]
  },
  {
   "cell_type": "code",
   "execution_count": 59,
   "id": "8647bf3a-4d02-42d3-964f-e3885a160563",
   "metadata": {},
   "outputs": [],
   "source": [
    "text_to_write='''ITEM: TIMESTEP \n",
    "0\n",
    "ITEM: NUMBER OF ATOMS\n",
    "392\n",
    "ITEM: BOX BOUNDS xy xz yz\n",
    "-7.1604 14.3208 -7.1604 \n",
    "0 12.402177 0\n",
    "0 30.0 0\n",
    "ITEM: ATOMS id type x y z '''"
   ]
  },
  {
   "cell_type": "code",
   "execution_count": null,
   "id": "81452661-cb73-40db-a4d5-1f2e42325f70",
   "metadata": {},
   "outputs": [],
   "source": []
  },
  {
   "cell_type": "code",
   "execution_count": null,
   "id": "5c204983-7191-4b81-86f4-732c2eb2ca12",
   "metadata": {},
   "outputs": [],
   "source": []
  }
 ],
 "metadata": {
  "kernelspec": {
   "display_name": "Python 3 (ipykernel)",
   "language": "python",
   "name": "python3"
  },
  "language_info": {
   "codemirror_mode": {
    "name": "ipython",
    "version": 3
   },
   "file_extension": ".py",
   "mimetype": "text/x-python",
   "name": "python",
   "nbconvert_exporter": "python",
   "pygments_lexer": "ipython3",
   "version": "3.9.13"
  }
 },
 "nbformat": 4,
 "nbformat_minor": 5
}
