{
 "cells": [
  {
   "cell_type": "code",
   "execution_count": null,
   "id": "ca166dec-2c17-4b63-b100-3b457b671ae9",
   "metadata": {},
   "outputs": [],
   "source": [
    "# This notebook reads a (surface) configuration in the lammps-dump-text format and adds an arbitrary number of ammonia molecules on top of the surface.\n",
    "# Requires ASE https://wiki.fysik.dtu.dk/ase/"
   ]
  },
  {
   "cell_type": "code",
   "execution_count": 1,
   "id": "e2fea054-f464-404c-aab1-3f60f9b47cbb",
   "metadata": {},
   "outputs": [],
   "source": [
    "from ase.build import molecule\n",
    "from ase import Atoms\n",
    "from ase.io import read,write\n",
    "from ase.visualize import view\n",
    "import numpy as np\n",
    "import os"
   ]
  },
  {
   "cell_type": "code",
   "execution_count": 5,
   "id": "7c69a8de-83a3-4d39-9229-f18b801dff62",
   "metadata": {},
   "outputs": [
    {
     "name": "stdout",
     "output_type": "stream",
     "text": [
      "Cell([[14.320800000000002, 0.0, 0.0], [-7.1604, 12.402177, 0.0], [0.0, 0.0, 30.0]])\n",
      "[6.083656007907015, 6.3588789245920525, 22.116154608436133]\n",
      "[[ 6.08365601  6.35887892 22.23264361]\n",
      " [ 6.08365601  7.29860992 21.84434661]\n",
      " [ 6.89748701  5.88901392 21.84434661]\n",
      " [ 5.26982501  5.88901392 21.84434661]]\n",
      "[2.3078461981905267, 0.5092312906233669, 22.318832293043414]\n",
      "[[ 2.3078462   0.50923129 22.43532129]\n",
      " [ 2.3078462   1.44896229 22.04702429]\n",
      " [ 3.1216772   0.03936629 22.04702429]\n",
      " [ 1.4940152   0.03936629 22.04702429]]\n"
     ]
    },
    {
     "data": {
      "text/plain": [
       "0"
      ]
     },
     "execution_count": 5,
     "metadata": {},
     "output_type": "execute_result"
    }
   ],
   "source": [
    "config_file=\"../surface/384_atoms/Li2NH_384_20NH2.lmp\".format(j)\n",
    "config_orig=read(config_file,format='lammps-dump-text')\n",
    "cell_arrays=config_orig.get_cell()\n",
    "print(cell_arrays)\n",
    "    \n",
    "n_to_add=2 #how many ammonia molecules to be added\n",
    "config=config_orig\n",
    "\n",
    "bx_min= 0#cell_arrays[0,0]/8\n",
    "bx_max= 8#cell_arrays[0,0]-bx_min\n",
    "by_min= 0 #cell_arrays[1,1]/8\n",
    "by_max= 8# cell_arrays[1,1]-by_min\n",
    "\n",
    "for i in range (0,n_to_add):\n",
    "    r_x=np.random.uniform(bx_min,bx_max)\n",
    "    r_y=np.random.uniform(by_min,by_max)\n",
    "    r_z=np.random.uniform(cell_arrays[2,2]-8.0,cell_arrays[2,2]-7.5)\n",
    "    print([r_x,r_y,r_z])\n",
    "    new_mol=molecule('NH3')\n",
    "    pos=new_mol.get_positions() #4x3 matrix\n",
    "    for a in range (0,4):\n",
    "        pos[a]+=[r_x,r_y,r_z]\n",
    "    print(pos)\n",
    "    new_mol.set_positions(pos)\n",
    "    new_system=config+new_mol\n",
    "    config=new_system\n",
    "    \n",
    "config.set_cell(cell_arrays)\n",
    "fileout=\"Li2NH_392_20NH2_2NH3.lmp\"\n",
    "write(fileout,config,format='lammps-data')\n",
    "os.system(\"awk <\"+fileout+\" '{if($2==4) print $1,2,$3,$4,$5; else print}' > tmp && mv tmp \"+fileout)"
   ]
  },
  {
   "cell_type": "code",
   "execution_count": 4,
   "id": "8647bf3a-4d02-42d3-964f-e3885a160563",
   "metadata": {},
   "outputs": [],
   "source": [
    "text_to_write='''ITEM: TIMESTEP \n",
    "0\n",
    "ITEM: NUMBER OF ATOMS\n",
    "392\n",
    "ITEM: BOX BOUNDS xy xz yz\n",
    "-7.1604 14.3208 -7.1604 \n",
    "0 12.402177 0\n",
    "0 30.0 0\n",
    "ITEM: ATOMS id type x y z '''"
   ]
  },
  {
   "cell_type": "code",
   "execution_count": null,
   "id": "81452661-cb73-40db-a4d5-1f2e42325f70",
   "metadata": {},
   "outputs": [],
   "source": []
  },
  {
   "cell_type": "code",
   "execution_count": null,
   "id": "5c204983-7191-4b81-86f4-732c2eb2ca12",
   "metadata": {},
   "outputs": [],
   "source": []
  }
 ],
 "metadata": {
  "kernelspec": {
   "display_name": "Python 3 (ipykernel)",
   "language": "python",
   "name": "python3"
  },
  "language_info": {
   "codemirror_mode": {
    "name": "ipython",
    "version": 3
   },
   "file_extension": ".py",
   "mimetype": "text/x-python",
   "name": "python",
   "nbconvert_exporter": "python",
   "pygments_lexer": "ipython3",
   "version": "3.9.13"
  }
 },
 "nbformat": 4,
 "nbformat_minor": 5
}
