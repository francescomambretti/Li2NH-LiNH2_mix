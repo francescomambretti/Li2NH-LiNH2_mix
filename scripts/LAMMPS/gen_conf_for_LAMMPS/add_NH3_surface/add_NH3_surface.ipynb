{
 "cells": [
  {
   "cell_type": "code",
   "execution_count": 2,
   "id": "e2fea054-f464-404c-aab1-3f60f9b47cbb",
   "metadata": {},
   "outputs": [],
   "source": [
    "from ase.build import molecule\n",
    "from ase.io import write, read"
   ]
  },
  {
   "cell_type": "code",
   "execution_count": null,
   "id": "26831479-8b58-4b33-909f-10c65540810e",
   "metadata": {},
   "outputs": [],
   "source": []
  }
 ],
 "metadata": {
  "kernelspec": {
   "display_name": "Python 3 (ipykernel)",
   "language": "python",
   "name": "python3"
  },
  "language_info": {
   "codemirror_mode": {
    "name": "ipython",
    "version": 3
   },
   "file_extension": ".py",
   "mimetype": "text/x-python",
   "name": "python",
   "nbconvert_exporter": "python",
   "pygments_lexer": "ipython3",
   "version": "3.9.13"
  }
 },
 "nbformat": 4,
 "nbformat_minor": 5
}
